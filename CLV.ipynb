{
  "nbformat": 4,
  "nbformat_minor": 0,
  "metadata": {
    "colab": {
      "provenance": []
    },
    "kernelspec": {
      "name": "python3",
      "display_name": "Python 3"
    },
    "language_info": {
      "name": "python"
    }
  },
  "cells": [
    {
      "cell_type": "code",
      "execution_count": null,
      "metadata": {
        "colab": {
          "base_uri": "https://localhost:8080/"
        },
        "id": "gAq18JI2gbRy",
        "outputId": "e508e0f5-53b6-4d6d-8f6e-c82f6e89a567"
      },
      "outputs": [
        {
          "output_type": "stream",
          "name": "stdout",
          "text": [
            "RMSE: 6544.945974491272\n",
            "R2: 0.8761432652104939\n",
            "Predicted CLV for the sample values: 34210.484017123235\n"
          ]
        },
        {
          "output_type": "stream",
          "name": "stderr",
          "text": [
            "/usr/local/lib/python3.10/dist-packages/sklearn/base.py:439: UserWarning: X does not have valid feature names, but LinearRegression was fitted with feature names\n",
            "  warnings.warn(\n"
          ]
        }
      ],
      "source": [
        "import pandas as pd\n",
        "import numpy as np\n",
        "from sklearn.model_selection import train_test_split\n",
        "from sklearn.linear_model import LinearRegression\n",
        "from sklearn.metrics import mean_squared_error, r2_score\n",
        "\n",
        "# Load the data from the Excel file\n",
        "df = pd.read_excel('/content/customer_lifetime_value.xlsx')\n",
        "\n",
        "# Define the feature variables and the target variable\n",
        "X = df[['Lifespan (years)', 'Average Yearly Revenue', 'Churn Rate', 'Discount Rate']]\n",
        "y = df['CLV']\n",
        "\n",
        "# Split the data into training and testing sets\n",
        "X_train, X_test, y_train, y_test = train_test_split(X, y, test_size=0.2, random_state=0)\n",
        "\n",
        "# Create a Linear Regression model\n",
        "model = LinearRegression()\n",
        "\n",
        "# Train the model using the training data\n",
        "model.fit(X_train, y_train)\n",
        "\n",
        "# Use the model to make predictions on the test data\n",
        "y_pred = model.predict(X_test)\n",
        "\n",
        "# Calculate the root mean squared error and r-squared value for the predictions on the test set\n",
        "rmse = np.sqrt(mean_squared_error(y_test, y_pred))\n",
        "r2 = r2_score(y_test, y_pred)\n",
        "\n",
        "print(f\"RMSE: {rmse}\")\n",
        "print(f\"R2: {r2}\")\n",
        "\n",
        "# Sample values for prediction\n",
        "sample_values = [[5, 7000, 0.05, 0.07]]\n",
        "\n",
        "# Use the model to predict the CLV for the sample values\n",
        "sample_prediction = model.predict(sample_values)\n",
        "\n",
        "print(f\"Predicted CLV for the sample values: {sample_prediction[0]}\")\n"
      ]
    }
  ]
}