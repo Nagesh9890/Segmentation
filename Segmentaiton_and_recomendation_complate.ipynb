{
  "nbformat": 4,
  "nbformat_minor": 0,
  "metadata": {
    "colab": {
      "provenance": []
    },
    "kernelspec": {
      "name": "python3",
      "display_name": "Python 3"
    },
    "language_info": {
      "name": "python"
    }
  },
  "cells": [
    {
      "cell_type": "code",
      "execution_count": 1,
      "metadata": {
        "colab": {
          "base_uri": "https://localhost:8080/"
        },
        "id": "z-rOue6PZLfX",
        "outputId": "1de8d64e-7527-4924-afe5-d13593dd68e5"
      },
      "outputs": [
        {
          "output_type": "stream",
          "name": "stdout",
          "text": [
            "{'Loan Recommendation': 'Medium', 'Investment Recommendation': 'Medium', 'Credit Card Recommendation': 'Platinum', 'Insurance Recommendation': 'Basic'}\n"
          ]
        }
      ],
      "source": [
        "import pandas as pd\n",
        "from sklearn.feature_extraction.text import TfidfVectorizer\n",
        "from sklearn.metrics.pairwise import cosine_similarity\n",
        "\n",
        "# Load the Excel file\n",
        "xls = pd.ExcelFile('/content/Cust_segmentation_and_Recomendation_with_Recommendations.xlsx')\n",
        "sheet_names = xls.sheet_names\n",
        "\n",
        "# Load the data from the sheet into a dataframe\n",
        "df = pd.read_excel(xls, sheet_names[0])\n",
        "\n",
        "# Combine the values of the customer profile columns into a single string for each customer\n",
        "customer_profile_columns = [\n",
        "    'txt_profession_desc',\n",
        "    'nam_custadr_city',\n",
        "    'nam_custadr_state',\n",
        "    'txt_holdadr_add3',\n",
        "    'txt_cust_typ',\n",
        "    'risk_category',\n",
        "    'wealth_mng_cust',\n",
        "    'annual_inc_trnor',\n",
        "    'resi_type',\n",
        "    'nam_product',\n",
        "    'promotional_offers',\n",
        "    'Bill Payment',\n",
        "    'Dining ',\n",
        "    'Loan',\n",
        "    'Travel & hospitality ',\n",
        "    'Vehicle Running Expenses',\n",
        "    'Credit Card Payement ',\n",
        "    'Gym_Fitness_Centre ',\n",
        "    'B2B_Payment',\n",
        "    'High_value_Transactions_Above_25k',\n",
        "    'Shopping ',\n",
        "    'Investments ',\n",
        "    'No_of_transactions',\n",
        "    'Total Spent ',\n",
        "    'Month ',\n",
        "    'Customer_Value',\n",
        "    'Type_of Investor ',\n",
        "    'Profession',\n",
        "    'Frequency_of_Transactions',\n",
        "    'Type_of_Transactions'\n",
        "]\n",
        "\n",
        "# Convert numerical columns to string\n",
        "for column in customer_profile_columns:\n",
        "    df[column] = df[column].astype(str)\n",
        "\n",
        "# Create a new column 'customer_profile' that contains the combined text data\n",
        "df['customer_profile'] = df[customer_profile_columns].agg(' '.join, axis=1)\n",
        "\n",
        "# Initialize the TF-IDF vectorizer\n",
        "vectorizer = TfidfVectorizer()\n",
        "\n",
        "# Fit the vectorizer to the 'customer_profile' column and transform the column into TF-IDF vectors\n",
        "tfidf_matrix = vectorizer.fit_transform(df['customer_profile'])\n",
        "\n",
        "# Compute the cosine similarities between the TF-IDF vectors\n",
        "cosine_similarities = cosine_similarity(tfidf_matrix)\n",
        "\n",
        "def recommend_services(row_num, top_n_similar=5):\n",
        "    # Get the similarity scores for the given row\n",
        "    similarity_scores = list(enumerate(cosine_similarities[row_num]))\n",
        "\n",
        "    # Sort the customers based on the similarity scores\n",
        "    similarity_scores = sorted(similarity_scores, key=lambda x: x[1], reverse=True)\n",
        "\n",
        "    # Get the scores of the top-n most similar customers\n",
        "    top_similar_scores = similarity_scores[1:top_n_similar+1]  # We start from index 1 because the top match would be the customer itself\n",
        "\n",
        "    # Get the customer indices of the top-n most similar customers\n",
        "    top_similar_indices = [i[0] for i in top_similar_scores]\n",
        "\n",
        "    # For each recommendation column, get the most common recommendation among the top-n most similar customers\n",
        "    recommendations = {}\n",
        "    recommendation_columns = ['Loan Recommendation', 'Investment Recommendation', 'Credit Card Recommendation', 'Insurance Recommendation']\n",
        "    for column in recommendation_columns:\n",
        "        top_recommendations = df.iloc[top_similar_indices][column].value_counts().index.tolist()\n",
        "        recommendations[column] = top_recommendations[0] if top_recommendations else None\n",
        "\n",
        "    return recommendations\n",
        "\n",
        "# Get recommendations for the first row\n",
        "recommendations = recommend_services(0)\n",
        "print(recommendations)\n"
      ]
    }
  ]
}